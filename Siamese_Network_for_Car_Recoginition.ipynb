{
  "nbformat": 4,
  "nbformat_minor": 0,
  "metadata": {
    "colab": {
      "name": "Siamese Network for Car Recoginition.ipynb",
      "provenance": [],
      "collapsed_sections": [],
      "machine_shape": "hm",
      "include_colab_link": true
    },
    "kernelspec": {
      "name": "python3",
      "display_name": "Python 3"
    },
    "accelerator": "GPU"
  },
  "cells": [
    {
      "cell_type": "markdown",
      "metadata": {
        "id": "view-in-github",
        "colab_type": "text"
      },
      "source": [
        "<a href=\"https://colab.research.google.com/github/omar907/Siamese-Network-for-Car-Recognition/blob/master/Siamese_Network_for_Car_Recoginition.ipynb\" target=\"_parent\"><img src=\"https://colab.research.google.com/assets/colab-badge.svg\" alt=\"Open In Colab\"/></a>"
      ]
    },
    {
      "cell_type": "markdown",
      "metadata": {
        "id": "KBGtSM-1gmJK",
        "colab_type": "text"
      },
      "source": [
        "# Siamese Network for Car Recognition"
      ]
    },
    {
      "cell_type": "code",
      "metadata": {
        "id": "xmnRLXRtP66o",
        "colab_type": "code",
        "colab": {
          "base_uri": "https://localhost:8080/",
          "height": 122
        },
        "outputId": "b4f66b21-9e9a-4710-8e38-f1e75437e032"
      },
      "source": [
        "from google.colab import drive\n",
        "drive.mount('/content/drive')"
      ],
      "execution_count": null,
      "outputs": [
        {
          "output_type": "stream",
          "text": [
            "Go to this URL in a browser: https://accounts.google.com/o/oauth2/auth?client_id=947318989803-6bn6qk8qdgf4n4g3pfee6491hc0brc4i.apps.googleusercontent.com&redirect_uri=urn%3aietf%3awg%3aoauth%3a2.0%3aoob&response_type=code&scope=email%20https%3a%2f%2fwww.googleapis.com%2fauth%2fdocs.test%20https%3a%2f%2fwww.googleapis.com%2fauth%2fdrive%20https%3a%2f%2fwww.googleapis.com%2fauth%2fdrive.photos.readonly%20https%3a%2f%2fwww.googleapis.com%2fauth%2fpeopleapi.readonly\n",
            "\n",
            "Enter your authorization code:\n",
            "··········\n",
            "Mounted at /content/drive\n"
          ],
          "name": "stdout"
        }
      ]
    },
    {
      "cell_type": "code",
      "metadata": {
        "id": "KNWRpbZfPzwR",
        "colab_type": "code",
        "colab": {
          "base_uri": "https://localhost:8080/",
          "height": 105
        },
        "outputId": "1acf68a4-a5f9-46b0-fa6d-35299324abe8"
      },
      "source": [
        "import numpy as np\n",
        "import pandas as pd\n",
        "import os\n",
        "\n",
        "%matplotlib inline\n",
        "import matplotlib.pyplot as plt\n",
        "import matplotlib as mpl\n",
        "import matplotlib.pyplot as plt\n",
        "import matplotlib.lines as mlines\n",
        "from matplotlib import image, patches\n",
        "\n",
        "import tensorflow as tf\n",
        "from tensorflow import keras\n",
        "import tensorflow.keras.backend as K\n",
        "from tensorflow.keras.datasets import cifar10\n",
        "from tensorflow.keras.preprocessing.image import ImageDataGenerator, array_to_img, img_to_array, load_img\n",
        "from tensorflow.keras.models import Sequential, load_model, Model\n",
        "from tensorflow.keras.layers import Conv2D, MaxPooling2D, Flatten, Activation, concatenate\n",
        "from tensorflow.keras.layers import Dense, Dropout, BatchNormalization, Input, Lambda, LeakyReLU\n",
        "from tensorflow.keras.regularizers import l2\n",
        "from tensorflow.keras.optimizers import Adam, SGD, RMSprop\n",
        "from tensorflow.keras.callbacks import ModelCheckpoint, LearningRateScheduler, EarlyStopping\n",
        "from keras.utils import np_utils\n",
        "\n",
        "import sklearn\n",
        "from sklearn.model_selection import train_test_split\n",
        "from sklearn.preprocessing import LabelBinarizer\n",
        "from sklearn.metrics import f1_score, classification_report, confusion_matrix\n",
        "\n",
        "import skimage\n",
        "from skimage.io import imread, imshow, imsave\n",
        "from skimage import transform\n",
        "from skimage.transform import resize, rotate\n",
        "from skimage.color import rgb2gray, gray2rgb\n",
        "\n",
        "import scipy\n",
        "from scipy.io import  loadmat\n",
        "\n",
        "import seaborn as sn\n",
        "\n",
        "import h5py\n",
        "import pickle\n",
        "import math\n",
        "import time\n",
        "from time import time, sleep\n",
        "from copy import deepcopy\n",
        "import random\n",
        "from shutil import move, copy, copytree\n",
        "from zipfile import ZipFile\n",
        "\n",
        "import cv2\n",
        "\n",
        "# Tensorboard\n",
        "from tensorflow.keras.callbacks import TensorBoard\n",
        "# Load the TensorBoard notebook extension\n",
        "%load_ext tensorboard\n",
        "\n",
        "from IPython.display import clear_output\n",
        "\n",
        "tf.__version__"
      ],
      "execution_count": null,
      "outputs": [
        {
          "output_type": "stream",
          "text": [
            "Using TensorFlow backend.\n",
            "/usr/local/lib/python3.6/dist-packages/statsmodels/tools/_testing.py:19: FutureWarning: pandas.util.testing is deprecated. Use the functions in the public API at pandas.testing instead.\n",
            "  import pandas.util.testing as tm\n"
          ],
          "name": "stderr"
        },
        {
          "output_type": "execute_result",
          "data": {
            "text/plain": [
              "'2.2.0'"
            ]
          },
          "metadata": {
            "tags": []
          },
          "execution_count": 3
        }
      ]
    },
    {
      "cell_type": "markdown",
      "metadata": {
        "id": "1wTBF5BTSLVs",
        "colab_type": "text"
      },
      "source": [
        "# Loading Data_name_batches and stack them together"
      ]
    },
    {
      "cell_type": "code",
      "metadata": {
        "colab_type": "code",
        "id": "9Wir-rUUhwvc",
        "colab": {
          "base_uri": "https://localhost:8080/",
          "height": 34
        },
        "outputId": "61043390-f463-44e1-b3a0-46c14c18985b"
      },
      "source": [
        "%cd '/content/drive/My Drive/Graduation Project/Machine Learning Subteam/Car_Recognition_Datasets/VeRi_with_plate'"
      ],
      "execution_count": null,
      "outputs": [
        {
          "output_type": "stream",
          "text": [
            "/content/drive/My Drive/Graduation Project/Machine Learning Subteam/Car_Recognition_Datasets/VeRi_with_plate\n"
          ],
          "name": "stdout"
        }
      ]
    },
    {
      "cell_type": "code",
      "metadata": {
        "id": "URBoaigjIvJ9",
        "colab_type": "code",
        "colab": {}
      },
      "source": [
        "with open('data_name_batches/training_pair_names_b1.pickle', 'rb') as f:\n",
        "    train_pos_pair_names1, train_neg_pair_names1 = pickle.load(f)\n",
        "train_pos_pair_names1, train_neg_pair_names1 = list(train_pos_pair_names1), list(train_neg_pair_names1)\n",
        "\n",
        "with open('data_name_batches/training_pair_names_b6.pickle', 'rb') as f:\n",
        "    train_pos_pair_names2, train_neg_pair_names2 = pickle.load(f)\n",
        "train_pos_pair_names2, train_neg_pair_names2 = list(train_pos_pair_names2), list(train_neg_pair_names2)\n",
        "\n",
        "with open('data_name_batches/training_pair_names_b3.pickle', 'rb') as f:\n",
        "    train_pos_pair_names3, train_neg_pair_names3 = pickle.load(f)\n",
        "train_pos_pair_names3, train_neg_pair_names3 = list(train_pos_pair_names3), list(train_neg_pair_names3)\n",
        "\n",
        "with open('data_name_batches/Stanford_train_pair_names.pickle', 'rb') as f:\n",
        "    stanford_train_pos_pair_names1, stanford_train_neg_pair_names1 = pickle.load(f)\n",
        "stanford_train_pos_pair_names1, stanford_train_neg_pair_names1 = list(stanford_train_pos_pair_names1), list(stanford_train_neg_pair_names1)\n",
        "\n",
        "with open('data_name_batches/Stanford_train_pair_names2.pickle', 'rb') as f:\n",
        "    stanford_train_pos_pair_names2, stanford_train_neg_pair_names2 = pickle.load(f)\n",
        "stanford_train_pos_pair_names2, stanford_train_neg_pair_names2 = list(stanford_train_pos_pair_names2), list(stanford_train_neg_pair_names2)\n",
        "\n",
        "train_pos_pair_names = train_pos_pair_names1 + stanford_train_pos_pair_names1 + stanford_train_pos_pair_names2 #+ train_pos_pair_names2 #+ train_pos_pair_names3\n",
        "train_neg_pair_names = train_neg_pair_names1 + stanford_train_neg_pair_names1 + stanford_train_neg_pair_names2 #+ train_neg_pair_names2 #+ train_neg_pair_names3"
      ],
      "execution_count": null,
      "outputs": []
    },
    {
      "cell_type": "code",
      "metadata": {
        "colab_type": "code",
        "id": "jZdOYAJvZI4w",
        "colab": {}
      },
      "source": [
        "with open('data_name_batches/validation_pair_names_b1.pickle', 'rb') as f:\n",
        "    val_pos_pair_names1, val_neg_pair_names1 = pickle.load(f)\n",
        "val_pos_pair_names1, val_neg_pair_names1 = list(val_pos_pair_names1), list(val_neg_pair_names1)\n",
        "\n",
        "with open('data_name_batches/validation_pair_names_b6.pickle', 'rb') as f:\n",
        "    val_pos_pair_names2, val_neg_pair_names2 = pickle.load(f)\n",
        "val_pos_pair_names2, val_neg_pair_names2 = list(val_pos_pair_names2), list(val_neg_pair_names2)\n",
        "\n",
        "with open('data_name_batches/validation_pair_names_b3.pickle', 'rb') as f:\n",
        "    val_pos_pair_names3, val_neg_pair_names3 = pickle.load(f)\n",
        "val_pos_pair_names3, val_neg_pair_names3 = list(val_pos_pair_names3), list(val_neg_pair_names3)\n",
        "\n",
        "with open('data_name_batches/Stanford_val_pair_names.pickle', 'rb') as f:\n",
        "    stanford_val_pos_pair_names1, stanford_val_neg_pair_names1 = pickle.load(f)\n",
        "stanford_val_pos_pair_names1, stanford_val_neg_pair_names1 = list(stanford_val_pos_pair_names1), list(stanford_val_neg_pair_names1)\n",
        "\n",
        "with open('data_name_batches/Stanford_val_pair_names2.pickle', 'rb') as f:\n",
        "    stanford_val_pos_pair_names2, stanford_val_neg_pair_names2 = pickle.load(f)\n",
        "stanford_val_pos_pair_names2, stanford_val_neg_pair_names2 = list(stanford_val_pos_pair_names2), list(stanford_val_neg_pair_names2)\n",
        "\n",
        "\n",
        "val_pos_pair_names = val_pos_pair_names1 + val_pos_pair_names2 + val_pos_pair_names3 + stanford_val_pos_pair_names1 + stanford_val_pos_pair_names2\n",
        "val_neg_pair_names = val_neg_pair_names1 + val_neg_pair_names2 + val_neg_pair_names3 + stanford_val_neg_pair_names1 + stanford_val_neg_pair_names2"
      ],
      "execution_count": null,
      "outputs": []
    },
    {
      "cell_type": "code",
      "metadata": {
        "colab_type": "code",
        "id": "XzFfeUXqZJNL",
        "colab": {}
      },
      "source": [
        "with open('data_name_batches/testing_pair_names_b1.pickle', 'rb') as f:\n",
        "    test_pos_pair_names1, test_neg_pair_names1 = pickle.load(f)\n",
        "test_pos_pair_names1, test_neg_pair_names1 = list(test_pos_pair_names1), list(test_neg_pair_names1)\n",
        "\n",
        "with open('data_name_batches/testing_pair_names_b6.pickle', 'rb') as f:\n",
        "    test_pos_pair_names2, test_neg_pair_names2 = pickle.load(f)\n",
        "test_pos_pair_names2, test_neg_pair_names2 = list(test_pos_pair_names2), list(test_neg_pair_names2)\n",
        "\n",
        "with open('data_name_batches/testing_pair_names_b3.pickle', 'rb') as f:\n",
        "    test_pos_pair_names3, test_neg_pair_names3 = pickle.load(f)\n",
        "test_pos_pair_names3, test_neg_pair_names3 = list(test_pos_pair_names3), list(test_neg_pair_names3)\n",
        "\n",
        "with open('data_name_batches/Stanford_test_pair_names.pickle', 'rb') as f:\n",
        "    stanford_test_pos_pair_names1, stanford_test_neg_pair_names1 = pickle.load(f)\n",
        "stanford_test_pos_pair_names1, stanford_test_neg_pair_names1 = list(stanford_test_pos_pair_names1), list(stanford_test_neg_pair_names1)\n",
        "\n",
        "with open('data_name_batches/Stanford_test_pair_names2.pickle', 'rb') as f:\n",
        "    stanford_test_pos_pair_names2, stanford_test_neg_pair_names2 = pickle.load(f)\n",
        "stanford_test_pos_pair_names2, stanford_test_neg_pair_names2 = list(stanford_test_pos_pair_names2), list(stanford_test_neg_pair_names2)\n",
        "\n",
        "\n",
        "test_pos_pair_names = test_pos_pair_names1 + test_pos_pair_names2 + test_pos_pair_names3 + stanford_test_pos_pair_names1 + stanford_test_pos_pair_names2\n",
        "test_neg_pair_names = test_neg_pair_names1 + test_neg_pair_names2 + test_neg_pair_names3 + stanford_test_neg_pair_names1 + stanford_test_neg_pair_names2"
      ],
      "execution_count": null,
      "outputs": []
    },
    {
      "cell_type": "markdown",
      "metadata": {
        "id": "b6-VtXHFWKml",
        "colab_type": "text"
      },
      "source": [
        "# Loading Validation and Test Data in RAM"
      ]
    },
    {
      "cell_type": "code",
      "metadata": {
        "id": "qMV0O9wIWJ1v",
        "colab_type": "code",
        "colab": {
          "base_uri": "https://localhost:8080/",
          "height": 85
        },
        "outputId": "fdba4504-3317-4bb8-9dd0-39c981a2cc79"
      },
      "source": [
        "val_test_dir = '/content/drive/My Drive/Graduation Project/Machine Learning Subteam/Car_Recognition_Datasets/VeRi_with_plate/'\n",
        "\n",
        "with open(val_test_dir + 'data_name_batches/val_pairs.pickle', 'rb') as f:\n",
        "  val_pairs, val_labels = pickle.load(f)\n",
        "\n",
        "with open(val_test_dir + 'data_name_batches/test_pairs.pickle', 'rb') as f:\n",
        "  test_pairs, test_labels = pickle.load(f)\n",
        "\n",
        "if(val_labels[0] == 0.):\n",
        "  val_labels = np.logical_not(val_labels).astype('float32')\n",
        "if(test_labels[0] == 0):\n",
        "  test_labels = np.logical_not(test_labels).astype('float32')\n",
        "\n",
        "print(val_pairs.shape)\n",
        "print(val_labels.shape)\n",
        "print(test_pairs.shape)\n",
        "print(test_labels.shape)"
      ],
      "execution_count": null,
      "outputs": [
        {
          "output_type": "stream",
          "text": [
            "(21710, 2, 64, 64, 3)\n",
            "(21710,)\n",
            "(21718, 2, 64, 64, 3)\n",
            "(21718,)\n"
          ],
          "name": "stdout"
        }
      ]
    },
    {
      "cell_type": "markdown",
      "metadata": {
        "id": "_ipdFp0ndJdH",
        "colab_type": "text"
      },
      "source": [
        "# Create pairs Generator"
      ]
    },
    {
      "cell_type": "code",
      "metadata": {
        "id": "XW35LA-Ojkxy",
        "colab_type": "code",
        "colab": {}
      },
      "source": [
        "# Still have augmentation problems\n",
        "def pairs_generator(pos_names, neg_names, batch_size, data_dir, dim = (64, 64), aug=True):\n",
        "\t# open the CSV file for reading\n",
        "\n",
        "  if(batch_size%2==1):  #for Odd batch sizes, make it Even\n",
        "    batch_size+=1\n",
        "\n",
        "  pairs = np.zeros((batch_size, 2, dim[0], dim[1], 3))\n",
        "  labels = np.zeros((batch_size,))\n",
        "  counter=0\n",
        "  \n",
        "  while True:\n",
        "    # Randomize pos_names, neg_names with the same order\n",
        "    temp = list(zip(pos_names, neg_names))\n",
        "    random.shuffle(temp)\n",
        "    pos_names, neg_names = zip(*temp)\n",
        "\n",
        "    mirrorring_mask = np.random.choice([0,1],(len(pos_names),3),replace=True)\n",
        "    rotation_mask = np.random.choice([-1,0,1],(len(pos_names),3),replace=True,p=[0.2,0.6,0.2])\n",
        "\n",
        "    for i in range(len(pos_names)):\n",
        "\n",
        "      anc = imread(os.path.join(data_dir, pos_names[i][0]))/255\n",
        "      pos = imread(os.path.join(data_dir, pos_names[i][1]))/255\n",
        "      neg = imread(os.path.join(data_dir, neg_names[i][1]))/255\n",
        "\n",
        "\n",
        "      if(anc.shape != (64,64,3)):\n",
        "        anc = resize(anc,(64, 64))\n",
        "      if(aug == True):\n",
        "        if(mirrorring_mask[i][0] == 1):\n",
        "          anc = anc[:, -1::-1]  # Flip Horizontally\n",
        "        if(rotation_mask[i][0] == 1):\n",
        "          anc = rotate(anc, 20, mode='edge')  # Rotate with angle = 20\n",
        "        elif(rotation_mask[i][0] == -1):\n",
        "          anc = rotate(anc, -20, mode='edge')  # Rotate with angle = -20\n",
        "            \n",
        "      if(pos.shape != (64,64,3)):\n",
        "        pos = resize(pos,(64, 64))\n",
        "      if(aug == True):\n",
        "        if(mirrorring_mask[i][1] == 1):\n",
        "          pos = pos[:, -1::-1]  # Flip Horizontally\n",
        "        if(rotation_mask[i][1] == 1):\n",
        "          pos = rotate(pos, 20, mode='edge')  # Rotate with angle = 20\n",
        "        elif(rotation_mask[i][1] == -1):\n",
        "          pos = rotate(pos, -20, mode='edge')  # Rotate with angle = -20\n",
        "     \n",
        "      if(neg.shape != (64,64,3)):\n",
        "        neg = resize(neg,(64, 64))\n",
        "      if(aug == True):\n",
        "        if(mirrorring_mask[i][2] == 1):\n",
        "          neg = neg[:, -1::-1]  # Flip Horizontally\n",
        "        if(rotation_mask[i][2] == 1):\n",
        "          neg = rotate(neg, 20, mode='edge')  # Rotate with angle = 20\n",
        "        elif(rotation_mask[i][2] == -1):\n",
        "          neg = rotate(neg, -20, mode='edge')  # Rotate with angle = -20      \n",
        "\n",
        "\n",
        "      # Creating the pair\n",
        "      pairs[counter] = np.array([anc, pos])\n",
        "      pairs[counter+1] = np.array([anc, neg])\n",
        "      \n",
        "      # If using the contrastive loss\n",
        "      labels[counter] = 1.0\n",
        "      labels[counter+1] = 0.0\n",
        "\n",
        "      counter+=2\n",
        "\n",
        "      if(counter == batch_size):\n",
        "        labels = labels.astype('float32')\n",
        "        \n",
        "        yield [pairs[:, 0], pairs[:, 1]], labels\n",
        "        counter=0"
      ],
      "execution_count": null,
      "outputs": []
    },
    {
      "cell_type": "markdown",
      "metadata": {
        "id": "sGGpzO3ehOLe",
        "colab_type": "text"
      },
      "source": [
        "# Building the Network"
      ]
    },
    {
      "cell_type": "code",
      "metadata": {
        "id": "in729O3uv_hg",
        "colab_type": "code",
        "colab": {}
      },
      "source": [
        "def euclidean_distance(vects):\n",
        "    x, y = vects\n",
        "    sum_square = K.sum(K.square(x - y), axis=1, keepdims=True)\n",
        "    return K.sqrt(K.maximum(sum_square, K.epsilon()))\n",
        "\n",
        "\n",
        "def eucl_dist_output_shape(shapes):\n",
        "    shape1, shape2 = shapes\n",
        "    return (shape1[0], 1)\n",
        "\n",
        "\n",
        "def contrastive_loss(y_true, y_pred):\n",
        "    '''Contrastive loss from Hadsell-et-al.'06\n",
        "    http://yann.lecun.com/exdb/publis/pdf/hadsell-chopra-lecun-06.pdf\n",
        "    '''\n",
        "    margin = 1\n",
        "    square_pred = K.square(y_pred)\n",
        "    margin_square = K.square(K.maximum(margin - y_pred, 0))\n",
        "    return K.mean(y_true * square_pred + (1 - y_true) * margin_square)\n",
        "\n",
        "\n",
        "def compute_accuracy(y_true, y_pred, thr=0.5):\n",
        "    '''Compute classification accuracy with a fixed threshold on distances.\n",
        "    '''\n",
        "    pred = y_pred.ravel() < thr\n",
        "    return np.mean(pred == y_true)\n",
        "\n",
        "\n",
        "def accuracy(y_true, y_pred):\n",
        "    '''Compute classification accuracy with a fixed threshold on distances.\n",
        "    '''\n",
        "    return K.mean(K.equal(y_true, K.cast(y_pred < 0.5, y_true.dtype)))"
      ],
      "execution_count": null,
      "outputs": []
    },
    {
      "cell_type": "code",
      "metadata": {
        "id": "fBt3jtXETOwI",
        "colab_type": "code",
        "colab": {
          "base_uri": "https://localhost:8080/",
          "height": 1000
        },
        "outputId": "f6095b5d-9e60-4dae-8298-423a0ff6082d"
      },
      "source": [
        "def create_base_network(input_shape, beta=0):\n",
        "    #Base network to be shared (eq. to feature extraction).\n",
        "    input = Input(shape=input_shape)\n",
        "    x = Conv2D(32, (3,3), padding='same', kernel_regularizer=l2(beta))(input)\n",
        "    x = BatchNormalization()(x)\n",
        "    x = Activation('relu')(x)\n",
        "    x = MaxPooling2D((2,2))(x)\n",
        "    x = Conv2D(64, (3,3), padding='same', kernel_regularizer=l2(beta))(x)\n",
        "    x = BatchNormalization()(x)\n",
        "    x = Activation('relu')(x)\n",
        "    x = MaxPooling2D((2,2))(x)\n",
        "    x = Conv2D(128, (3,3), padding='same', kernel_regularizer=l2(beta))(x)\n",
        "    x = BatchNormalization()(x)\n",
        "    x = Activation('relu')(x)\n",
        "    x = MaxPooling2D((2,2))(x)\n",
        "    x = Conv2D(256, (3,3), padding='same', kernel_regularizer=l2(beta))(x)\n",
        "    x = BatchNormalization()(x)\n",
        "    x = Activation('relu')(x)\n",
        "    x = MaxPooling2D((2,2))(x)\n",
        "    x = Conv2D(1024, (4,4), padding='valid', kernel_regularizer=l2(beta))(x)\n",
        "    x = BatchNormalization()(x)\n",
        "    x = Activation('relu')(x)\n",
        "    x = Dropout(0.5)(x)\n",
        "    x = Conv2D(1024, (1,1), kernel_regularizer=l2(beta))(x)\n",
        "    x = BatchNormalization()(x)\n",
        "    x = Activation('relu')(x)\n",
        "    x = Dropout(0.5)(x)\n",
        "    x = Conv2D(1024, (1,1), activation='relu', kernel_regularizer=l2(beta))(x)\n",
        "    x = Flatten(name = 'descriptor')(x)\n",
        "    model = Model(input, x)\n",
        "    model.summary()\n",
        "    return model\n",
        "\n",
        "\n",
        "dim = (64,64)\n",
        "\n",
        "input_shape = (dim[0], dim[1], 3)\n",
        "\n",
        "# network definition\n",
        "base_network = create_base_network(input_shape, beta = 1e-4)  # Yolo used beta = 5e-4\n",
        "\n",
        "input_a = Input(shape=input_shape)\n",
        "input_b = Input(shape=input_shape)\n",
        "\n",
        "# because we re-use the same instance `base_network`,\n",
        "# the weights of the network\n",
        "# will be shared across the two branches\n",
        "processed_a = base_network(input_a)\n",
        "processed_b = base_network(input_b)\n",
        "\n",
        "distance = Lambda(euclidean_distance,\n",
        "                  output_shape=eucl_dist_output_shape)([processed_a, processed_b])\n",
        "\n",
        "model = Model([input_a, input_b], distance)\n",
        "model.summary()"
      ],
      "execution_count": null,
      "outputs": [
        {
          "output_type": "stream",
          "text": [
            "Model: \"model_6\"\n",
            "_________________________________________________________________\n",
            "Layer (type)                 Output Shape              Param #   \n",
            "=================================================================\n",
            "input_10 (InputLayer)        [(None, 64, 64, 3)]       0         \n",
            "_________________________________________________________________\n",
            "conv2d_21 (Conv2D)           (None, 64, 64, 32)        896       \n",
            "_________________________________________________________________\n",
            "batch_normalization_18 (Batc (None, 64, 64, 32)        128       \n",
            "_________________________________________________________________\n",
            "activation_18 (Activation)   (None, 64, 64, 32)        0         \n",
            "_________________________________________________________________\n",
            "max_pooling2d_12 (MaxPooling (None, 32, 32, 32)        0         \n",
            "_________________________________________________________________\n",
            "conv2d_22 (Conv2D)           (None, 32, 32, 64)        18496     \n",
            "_________________________________________________________________\n",
            "batch_normalization_19 (Batc (None, 32, 32, 64)        256       \n",
            "_________________________________________________________________\n",
            "activation_19 (Activation)   (None, 32, 32, 64)        0         \n",
            "_________________________________________________________________\n",
            "max_pooling2d_13 (MaxPooling (None, 16, 16, 64)        0         \n",
            "_________________________________________________________________\n",
            "conv2d_23 (Conv2D)           (None, 16, 16, 128)       73856     \n",
            "_________________________________________________________________\n",
            "batch_normalization_20 (Batc (None, 16, 16, 128)       512       \n",
            "_________________________________________________________________\n",
            "activation_20 (Activation)   (None, 16, 16, 128)       0         \n",
            "_________________________________________________________________\n",
            "max_pooling2d_14 (MaxPooling (None, 8, 8, 128)         0         \n",
            "_________________________________________________________________\n",
            "conv2d_24 (Conv2D)           (None, 8, 8, 256)         295168    \n",
            "_________________________________________________________________\n",
            "batch_normalization_21 (Batc (None, 8, 8, 256)         1024      \n",
            "_________________________________________________________________\n",
            "activation_21 (Activation)   (None, 8, 8, 256)         0         \n",
            "_________________________________________________________________\n",
            "max_pooling2d_15 (MaxPooling (None, 4, 4, 256)         0         \n",
            "_________________________________________________________________\n",
            "conv2d_25 (Conv2D)           (None, 1, 1, 1024)        4195328   \n",
            "_________________________________________________________________\n",
            "batch_normalization_22 (Batc (None, 1, 1, 1024)        4096      \n",
            "_________________________________________________________________\n",
            "activation_22 (Activation)   (None, 1, 1, 1024)        0         \n",
            "_________________________________________________________________\n",
            "dropout_6 (Dropout)          (None, 1, 1, 1024)        0         \n",
            "_________________________________________________________________\n",
            "conv2d_26 (Conv2D)           (None, 1, 1, 1024)        1049600   \n",
            "_________________________________________________________________\n",
            "batch_normalization_23 (Batc (None, 1, 1, 1024)        4096      \n",
            "_________________________________________________________________\n",
            "activation_23 (Activation)   (None, 1, 1, 1024)        0         \n",
            "_________________________________________________________________\n",
            "dropout_7 (Dropout)          (None, 1, 1, 1024)        0         \n",
            "_________________________________________________________________\n",
            "conv2d_27 (Conv2D)           (None, 1, 1, 1024)        1049600   \n",
            "_________________________________________________________________\n",
            "descriptor (Flatten)         (None, 1024)              0         \n",
            "=================================================================\n",
            "Total params: 6,693,056\n",
            "Trainable params: 6,688,000\n",
            "Non-trainable params: 5,056\n",
            "_________________________________________________________________\n",
            "Model: \"model_7\"\n",
            "__________________________________________________________________________________________________\n",
            "Layer (type)                    Output Shape         Param #     Connected to                     \n",
            "==================================================================================================\n",
            "input_11 (InputLayer)           [(None, 64, 64, 3)]  0                                            \n",
            "__________________________________________________________________________________________________\n",
            "input_12 (InputLayer)           [(None, 64, 64, 3)]  0                                            \n",
            "__________________________________________________________________________________________________\n",
            "model_6 (Model)                 (None, 1024)         6693056     input_11[0][0]                   \n",
            "                                                                 input_12[0][0]                   \n",
            "__________________________________________________________________________________________________\n",
            "lambda_3 (Lambda)               (None, 1)            0           model_6[1][0]                    \n",
            "                                                                 model_6[2][0]                    \n",
            "==================================================================================================\n",
            "Total params: 6,693,056\n",
            "Trainable params: 6,688,000\n",
            "Non-trainable params: 5,056\n",
            "__________________________________________________________________________________________________\n"
          ],
          "name": "stdout"
        }
      ]
    },
    {
      "cell_type": "code",
      "metadata": {
        "id": "oR9uf-xxx9gF",
        "colab_type": "code",
        "colab": {
          "base_uri": "https://localhost:8080/",
          "height": 34
        },
        "outputId": "d5292f95-d16c-43d0-e6bf-5361d1c098d8"
      },
      "source": [
        "checkpoints_dir =  '/content/drive/My Drive/Graduation Project/Machine Learning Subteam/Car_Recognition_Datasets/Omar_checkpoints/'\n",
        "model.load_weights(checkpoints_dir + 'Mark6_best_weights.h5')\n",
        "pred_val = model.predict([val_pairs[:, 0], val_pairs[:, 1]])\n",
        "best_val_acc = compute_accuracy(val_labels[:], pred_val)\n",
        "best_val_acc"
      ],
      "execution_count": null,
      "outputs": [
        {
          "output_type": "execute_result",
          "data": {
            "text/plain": [
              "0.8601105481345003"
            ]
          },
          "metadata": {
            "tags": []
          },
          "execution_count": 16
        }
      ]
    },
    {
      "cell_type": "code",
      "metadata": {
        "id": "4Z5L0Py9ys-r",
        "colab_type": "code",
        "colab": {}
      },
      "source": [
        "model.load_weights(checkpoints_dir + 'Mark6_4_weights.h5')\n",
        "#model = load_model(checkpoints_dir + 'Mark6_1',  custom_objects={'contrastive_loss': contrastive_loss})"
      ],
      "execution_count": null,
      "outputs": []
    },
    {
      "cell_type": "code",
      "metadata": {
        "id": "cYiqodPi1dyM",
        "colab_type": "code",
        "colab": {
          "base_uri": "https://localhost:8080/",
          "height": 51
        },
        "outputId": "c04fc961-ebfa-497b-f48d-574948b923e2"
      },
      "source": [
        "pred_val = model.predict([val_pairs[:, 0], val_pairs[:, 1]])\n",
        "pred_test = model.predict([test_pairs[:, 0], test_pairs[:, 1]])\n",
        "print('val_accuracy: ' + str(compute_accuracy(val_labels[:], pred_val)))\n",
        "print('test_accuracy: ' + str(compute_accuracy(test_labels[:], pred_test)))"
      ],
      "execution_count": null,
      "outputs": [
        {
          "output_type": "stream",
          "text": [
            "val_accuracy: 0.8464302164900968\n",
            "test_accuracy: 0.8465788746661755\n"
          ],
          "name": "stdout"
        }
      ]
    },
    {
      "cell_type": "code",
      "metadata": {
        "id": "iMKZdSxfhIOe",
        "colab_type": "code",
        "colab": {
          "base_uri": "https://localhost:8080/",
          "height": 51
        },
        "outputId": "7becfc77-afd8-46da-c26e-79c4cd3e09ad"
      },
      "source": [
        "start_idx = -600\n",
        "S_pred_val = model.predict([val_pairs[start_idx:, 0], val_pairs[start_idx:, 1]])\n",
        "S_pred_test = model.predict([test_pairs[start_idx:, 0], test_pairs[start_idx:, 1]])\n",
        "print('Stanford_val_accuracy: ' + str(compute_accuracy(val_labels[start_idx:], S_pred_val)))\n",
        "print('Stanford_test_accuracy: ' + str(compute_accuracy(test_labels[start_idx:], S_pred_test)))"
      ],
      "execution_count": null,
      "outputs": [
        {
          "output_type": "stream",
          "text": [
            "Stanford_val_accuracy: 0.7533333333333333\n",
            "Stanford_test_accuracy: 0.7616666666666667\n"
          ],
          "name": "stdout"
        }
      ]
    },
    {
      "cell_type": "code",
      "metadata": {
        "id": "52Xv4WI8m8bR",
        "colab_type": "code",
        "colab": {
          "base_uri": "https://localhost:8080/",
          "height": 248
        },
        "outputId": "0a495e2f-329f-46c8-e27b-cfd742112e48"
      },
      "source": [
        "disc_anc = base_network.predict(test_pairs[:, 0])\n",
        "disc_pair = base_network.predict(test_pairs[:, 1])\n",
        "idx=-600\n",
        "\n",
        "for i in range(len(disc_anc[idx])):\n",
        "  if((disc_anc[idx][i] != 0.0) or (disc_pair[idx][i] != 0.0)):\n",
        "    print(i, disc_anc[idx][i], disc_pair[idx][i])\n",
        "\n",
        "plt.subplot(1,2,1)\n",
        "imshow(test_pairs[idx, 0])\n",
        "plt.subplot(1,2,2)\n",
        "imshow(test_pairs[idx, 1])"
      ],
      "execution_count": null,
      "outputs": [
        {
          "output_type": "execute_result",
          "data": {
            "text/plain": [
              "<matplotlib.image.AxesImage at 0x7f50f664de10>"
            ]
          },
          "metadata": {
            "tags": []
          },
          "execution_count": 21
        },
        {
          "output_type": "display_data",
          "data": {
            "image/png": "[encoded data removed]",
            "text/plain": [
              "<Figure size 432x288 with 2 Axes>"
            ]
          },
          "metadata": {
            "tags": [],
            "needs_background": "light"
          }
        }
      ]
    },
    {
      "cell_type": "markdown",
      "metadata": {
        "id": "Mx7vJEzBmTod",
        "colab_type": "text"
      },
      "source": [
        "# Training"
      ]
    },
    {
      "cell_type": "code",
      "metadata": {
        "id": "bdSRQn5Vvq1-",
        "colab_type": "code",
        "colab": {
          "base_uri": "https://localhost:8080/",
          "height": 34
        },
        "outputId": "bc3c4a2c-1702-4ace-ee63-843804616726"
      },
      "source": [
        "%cd '/content/drive/My Drive/Graduation Project/Machine Learning Subteam/Car_Recognition_Datasets/VeRi_with_plate'"
      ],
      "execution_count": null,
      "outputs": [
        {
          "output_type": "stream",
          "text": [
            "/content/drive/My Drive/Graduation Project/Machine Learning Subteam/Car_Recognition_Datasets/VeRi_with_plate\n"
          ],
          "name": "stdout"
        }
      ]
    },
    {
      "cell_type": "code",
      "metadata": {
        "id": "5BOkQ3u-0ME9",
        "colab_type": "code",
        "colab": {}
      },
      "source": [
        "epochs = 10\n",
        "BS = 128\n",
        "dim = (64, 64)\n",
        "\n",
        "NUM_TRAIN_PAIRS = len(train_pos_pair_names)\n",
        "NUM_VAL_PAIRS = len(val_pos_pair_names)\n",
        "NUM_TEST_PAIRS = len(test_pos_pair_names)\n",
        "\n",
        "train_dir= '/content/drive/My Drive/Graduation Project/Machine Learning Subteam/Car_Recognition_Datasets/VeRi_with_plate/image_train'\n",
        "test_val_dir='/content/drive/My Drive/Graduation Project/Machine Learning Subteam/Car_Recognition_Datasets/VeRi_with_plate/image_test'\n",
        "\n",
        "\n",
        "train_gen = pairs_generator(train_pos_pair_names, train_neg_pair_names, BS, train_dir, dim, aug=True)\n",
        "val_gen   = pairs_generator(val_pos_pair_names, val_neg_pair_names, BS, test_val_dir, dim, aug=False)\n",
        "test_gen  = pairs_generator(test_pos_pair_names, test_neg_pair_names, BS, test_val_dir, dim, aug=False)\n",
        "\n",
        "train_stanford_gen = pairs_generator(stanford_train_pos_pair_names1 + stanford_train_pos_pair_names2,\n",
        "                                     stanford_train_neg_pair_names1 + stanford_train_neg_pair_names2,\n",
        "                                     BS, train_dir, dim, aug=True)\n"
      ],
      "execution_count": null,
      "outputs": []
    },
    {
      "cell_type": "code",
      "metadata": {
        "id": "529GGELaE9Nv",
        "colab_type": "code",
        "colab": {}
      },
      "source": [
        "lr = 1e-4\n",
        "opt = RMSprop(learning_rate=lr)\n",
        "model.compile(loss=contrastive_loss, optimizer=opt, metrics=[accuracy])\n",
        "#model.compile(loss='binary_crossentropy', optimizer=opt, metrics=['acc'])"
      ],
      "execution_count": null,
      "outputs": []
    },
    {
      "cell_type": "code",
      "metadata": {
        "colab_type": "code",
        "id": "mxxjDUeI3ack",
        "colab": {
          "base_uri": "https://localhost:8080/",
          "height": 408
        },
        "outputId": "82e347b5-39d9-4a32-dfe3-c13efc1b0021"
      },
      "source": [
        "# train\n",
        "epochs=50\n",
        "\n",
        "checkpoints_dir =  '/content/drive/My Drive/Graduation Project/Machine Learning Subteam/Car_Recognition_Datasets/Omar_checkpoints/'\n",
        "train_gen =  pairs_generator(train_pos_pair_names, train_neg_pair_names,\n",
        "                             BS, train_dir, dim, aug=True)\n",
        "\n",
        "for i in range(epochs):\n",
        "  print(str(i+1)+'/'+str(epochs))\n",
        "\n",
        "  history = model.fit(train_gen,\n",
        "                      steps_per_epoch= NUM_TRAIN_PAIRS // BS,\n",
        "                      batch_size=BS,\n",
        "                      epochs=1,\n",
        "                      validation_data=([val_pairs[:, 0], val_pairs[:, 1]], val_labels),\n",
        "                      validation_steps=NUM_VAL_PAIRS // BS\n",
        "                      )\n",
        "  \n",
        "  pred_stan = model.predict([val_pairs[-598:, 0], val_pairs[-598:, 1]])\n",
        "  stan_acc = compute_accuracy(val_labels[-598:], pred_stan, 0.5)\n",
        "  print('Stanford Data Accuracy = ', str(stan_acc))\n",
        "\n",
        "  if(history.history['val_accuracy'][0]>best_val_acc):\n",
        "    best_val_acc = history.history['val_accuracy'][0]\n",
        "    model.save_weights(checkpoints_dir + 'Mark6_best_weights.h5')\n",
        "    model.save(checkpoints_dir + 'Mark6_best.h5')\n",
        "\n",
        "  if(i<10):\n",
        "    model.save_weights(checkpoints_dir + 'Mark6_8_weights.h5')\n",
        "  elif(i<20):\n",
        "    model.save_weights(checkpoints_dir + 'Mark6_9_weights.h5')\n",
        "  elif(i<30):\n",
        "    model.save_weights(checkpoints_dir + 'Mark6_10_weights.h5')\n",
        "  elif(i<40):\n",
        "    model.save_weights(checkpoints_dir + 'Mark6_11_weights.h5')\n",
        "  else:\n",
        "    model.save_weights(checkpoints_dir + 'Mark6_12_weights.h5')"
      ],
      "execution_count": null,
      "outputs": [
        {
          "output_type": "stream",
          "text": [
            "1/50\n",
            "221/221 [==============================] - 116s 526ms/step - loss: 0.1211 - accuracy: 0.9009 - val_loss: 0.1389 - val_accuracy: 0.8659\n",
            "Stanford Data Accuracy =  0.7892976588628763\n",
            "2/50\n",
            "221/221 [==============================] - 118s 533ms/step - loss: 0.1152 - accuracy: 0.9054 - val_loss: 0.1384 - val_accuracy: 0.8658\n",
            "Stanford Data Accuracy =  0.7892976588628763\n",
            "3/50\n",
            "221/221 [==============================] - 118s 534ms/step - loss: 0.1121 - accuracy: 0.9063 - val_loss: 0.1355 - val_accuracy: 0.8649\n",
            "Stanford Data Accuracy =  0.7876254180602007\n",
            "4/50\n",
            "221/221 [==============================] - 117s 531ms/step - loss: 0.1073 - accuracy: 0.9115 - val_loss: 0.1320 - val_accuracy: 0.8739\n",
            "Stanford Data Accuracy =  0.7959866220735786\n",
            "5/50\n",
            "221/221 [==============================] - 117s 530ms/step - loss: 0.1055 - accuracy: 0.9121 - val_loss: 0.1324 - val_accuracy: 0.8685\n",
            "Stanford Data Accuracy =  0.7892976588628763\n",
            "6/50\n",
            "221/221 [==============================] - 113s 510ms/step - loss: 0.1032 - accuracy: 0.9131 - val_loss: 0.1275 - val_accuracy: 0.8721\n",
            "Stanford Data Accuracy =  0.7876254180602007\n",
            "7/50\n",
            "221/221 [==============================] - 115s 521ms/step - loss: 0.1023 - accuracy: 0.9120 - val_loss: 0.1300 - val_accuracy: 0.8689\n",
            "Stanford Data Accuracy =  0.7792642140468228\n",
            "8/50\n",
            "211/221 [===========================>..] - ETA: 5s - loss: 0.1009 - accuracy: 0.9137"
          ],
          "name": "stdout"
        }
      ]
    },
    {
      "cell_type": "code",
      "metadata": {
        "id": "SX3E6bz4LHpV",
        "colab_type": "code",
        "colab": {}
      },
      "source": [
        "model.save_weights(checkpoints_dir + 'Mark6_1_weights.h5')\n",
        "model.save(checkpoints_dir + 'Mark6_1.h5')"
      ],
      "execution_count": null,
      "outputs": []
    },
    {
      "cell_type": "code",
      "metadata": {
        "colab_type": "code",
        "id": "nfirYIKtijOP",
        "colab": {
          "base_uri": "https://localhost:8080/",
          "height": 54
        },
        "outputId": "a94073d1-9d7f-47bf-e80f-008e17a68cbb"
      },
      "source": [
        "pred_val = model.predict([val_pairs[:, 0], val_pairs[:, 1]])\n",
        "pred_test = model.predict([test_pairs[:, 0], test_pairs[:, 1]])\n",
        "print('val_accuracy: ' + str(compute_accuracy(val_labels[:], pred_val)))\n",
        "print('test_accuracy: ' + str(compute_accuracy(test_labels[:], pred_test)))"
      ],
      "execution_count": null,
      "outputs": [
        {
          "output_type": "stream",
          "text": [
            "val_accuracy: 0.8352832795946569\n",
            "test_accuracy: 0.8379685053872364\n"
          ],
          "name": "stdout"
        }
      ]
    },
    {
      "cell_type": "code",
      "metadata": {
        "colab_type": "code",
        "id": "O7PHeHmtiplj",
        "colab": {
          "base_uri": "https://localhost:8080/",
          "height": 54
        },
        "outputId": "c4d93b9e-6403-41aa-b1bc-2fb92f964063"
      },
      "source": [
        "S_pred_val = model.predict([val_pairs[-600:, 0], val_pairs[-600:, 1]])\n",
        "S_pred_test = model.predict([test_pairs[-600:, 0], test_pairs[-600:, 1]])\n",
        "print('Stanford_val_accuracy: ' + str(compute_accuracy(val_labels[-600:], S_pred_val)))\n",
        "print('Stanford_test_accuracy: ' + str(compute_accuracy(test_labels[-600:], S_pred_test)))"
      ],
      "execution_count": null,
      "outputs": [
        {
          "output_type": "stream",
          "text": [
            "Stanford_val_accuracy: 0.7033333333333334\n",
            "Stanford_test_accuracy: 0.705\n"
          ],
          "name": "stdout"
        }
      ]
    },
    {
      "cell_type": "markdown",
      "metadata": {
        "id": "LEGuEOF8razR",
        "colab_type": "text"
      },
      "source": [
        "# Load Test Data (No Generator)"
      ]
    },
    {
      "cell_type": "code",
      "metadata": {
        "id": "HokxPjhfdbs1",
        "colab_type": "code",
        "colab": {
          "base_uri": "https://localhost:8080/",
          "height": 85
        },
        "outputId": "21f0dcf7-42e5-4226-b6af-e76d7f4d1cf2"
      },
      "source": [
        "# This function here can load the entire training VeRi dataset\n",
        "# But it will face some memory problems\n",
        "\n",
        "def create_pairs_no_gen(pos_names, neg_names, data_dir, dim = (64, 64)):\n",
        "  pairs = []\n",
        "  labels = []\n",
        "  \n",
        "  # Mirror the second half of the data the has length = 73890 triplte\n",
        "  mirrorring_mask = [0 for i in range(37103)] + [1 for i in range(len(pos_names) - 37103)]\n",
        "\n",
        "  for i in range(len(pos_names)):\n",
        "\n",
        "    anc = resize(imread(os.path.join(data_dir, pos_names[i][0])), dim)\n",
        "    pos = resize(imread(os.path.join(data_dir, pos_names[i][1])), dim)\n",
        "    neg = resize(imread(os.path.join(data_dir, neg_names[i][1])), dim)\n",
        "\n",
        "    if(mirrorring_mask[i] == 1):\n",
        "      ## Flip Horizontaly\n",
        "      anc = anc[:, -1::-1]\n",
        "      pos = pos[:, -1::-1]\n",
        "      neg = neg[:, -1::-1]\n",
        "\n",
        "    pairs += [np.array([anc, pos])]\n",
        "    pairs += [np.array([anc, neg])]\n",
        "\n",
        "    labels += [0, 1]\n",
        "\n",
        "    if(i%100==0):\n",
        "      clear_output()\n",
        "      print(str(i) + '/'+str(len(pos_names)))\n",
        "\n",
        "  clear_output()\n",
        "  print(str(len(pos_names)) + '/'+str(len(pos_names)))  \n",
        "  print('Done')\n",
        "\n",
        "  return np.array(pairs), np.array(labels)\n",
        "\n",
        "data_dir = '/content/drive/My Drive/Graduation Project/Machine Learning Subteam/Car_Recognition_Datasets/VeRi_with_plate/image_test'\n",
        "dim = (64, 64)\n",
        "\n",
        "#val_pairs, val_labels = create_pairs_no_gen(val_pos_pair_names, val_neg_pair_names, data_dir, dim)\n",
        "#test_pairs, test_labels = create_pairs_no_gen(test_pos_pair_names, test_neg_pair_names, data_dir, dim)\n",
        "\n",
        "#print(val_pairs.shape)\n",
        "#print(val_labels.shape)\n",
        "#print(test_pairs.shape)\n",
        "#print(test_labels.shape)"
      ],
      "execution_count": null,
      "outputs": [
        {
          "output_type": "stream",
          "text": [
            "10855/10855\n",
            "Done\n",
            "(21710, 2, 64, 64, 3)\n",
            "(21710,)\n"
          ],
          "name": "stdout"
        }
      ]
    },
    {
      "cell_type": "markdown",
      "metadata": {
        "id": "PgNgNi4br4Ny",
        "colab_type": "text"
      },
      "source": [
        "# Optimize Weights by rounding before testing"
      ]
    },
    {
      "cell_type": "code",
      "metadata": {
        "id": "CUU6243BxUfA",
        "colab_type": "code",
        "colab": {}
      },
      "source": [
        "## Create Rounded array for setting the weights with it\n",
        "round_num = 5\n",
        "W = model.weights\n",
        "W_rounded = []\n",
        "\n",
        "for l in range(len(W)):\n",
        "  W_rounded.append(np.around(W[l].numpy(), round_num))\n",
        "\n",
        "model.set_weights(W_rounded)\n",
        "\n",
        "print(len(W))\n",
        "len(W_rounded)"
      ],
      "execution_count": null,
      "outputs": []
    },
    {
      "cell_type": "code",
      "metadata": {
        "id": "JqubYNk7iSsB",
        "colab_type": "code",
        "colab": {}
      },
      "source": [
        "## Test\n",
        "idx = 1\n",
        "xo_1 = model.weights[idx].numpy()\n",
        "x_1 = W_rounded[idx]\n",
        "for i in range(len(x_1)):\n",
        "  print(xo_1[i], x_1[i])"
      ],
      "execution_count": null,
      "outputs": []
    },
    {
      "cell_type": "markdown",
      "metadata": {
        "id": "o0onZ-TXlhq5",
        "colab_type": "text"
      },
      "source": [
        "#Testing the Model (Evaluation and Confusion Matrix)"
      ]
    },
    {
      "cell_type": "code",
      "metadata": {
        "id": "PuI3_xJ6qyWV",
        "colab_type": "code",
        "colab": {}
      },
      "source": [
        "# Test the testset that is previously loaded\n",
        "y_true = deepcopy(test_labels)\n",
        "y_pred = model.predict([test_pairs[:, 0], test_pairs[:, 1]], verbose=1) "
      ],
      "execution_count": null,
      "outputs": []
    },
    {
      "cell_type": "code",
      "metadata": {
        "id": "pZnRAgdBlnZo",
        "colab_type": "code",
        "colab": {}
      },
      "source": [
        "thr = 0.5\n",
        "\n",
        "mask_pos = y_pred < thr\n",
        "mask_neg = y_pred >= thr\n",
        "y_pred[mask_pos] = 1\n",
        "y_pred[mask_neg] = 0\n",
        "\n",
        "data = confusion_matrix(y_true, y_pred)\n",
        "data"
      ],
      "execution_count": null,
      "outputs": []
    },
    {
      "cell_type": "code",
      "metadata": {
        "id": "CvUr41EnXJ1R",
        "colab_type": "code",
        "colab": {}
      },
      "source": [
        "df_cm = pd.DataFrame(data, columns=[1, 0], index = [1, 0])\n",
        "df_cm.index.name = 'Actual'\n",
        "df_cm.columns.name = 'Predicted'\n",
        "plt.figure(figsize = (7,4))\n",
        "sn.set(font_scale=1) #for label size\n",
        "sn.heatmap(df_cm, cmap=\"Blues\", annot=True ,annot_kws={ \"size\": 16})# font size"
      ],
      "execution_count": null,
      "outputs": []
    },
    {
      "cell_type": "code",
      "metadata": {
        "colab_type": "code",
        "id": "UmoRjkCDgFoc",
        "colab": {}
      },
      "source": [
        "mask_FP = np.logical_and((y_pred[:,0]==1.0), (y_true==0.0))\n",
        "FP = test_pairs[mask_FP]\n",
        "\n",
        "mask_FN = np.logical_and((y_pred[:,0]==0.0), (y_true==1.0))\n",
        "FN = test_pairs[mask_FN]\n",
        "\n",
        "print('NO. of False Positives = ' + str(len(FP)))\n",
        "print('NO. of False Negatives = ' + str(len(FN)))"
      ],
      "execution_count": null,
      "outputs": []
    },
    {
      "cell_type": "markdown",
      "metadata": {
        "id": "RDs8IrDuD1hv",
        "colab_type": "text"
      },
      "source": [
        "### Check False Positives"
      ]
    },
    {
      "cell_type": "code",
      "metadata": {
        "id": "TdTZ8I71duzX",
        "colab_type": "code",
        "colab": {}
      },
      "source": [
        "idx = 18\n",
        "plt.subplot(1,2,1)\n",
        "imshow(FP[idx][0])\n",
        "plt.subplot(1,2,2)\n",
        "imshow(FP[idx][1])"
      ],
      "execution_count": null,
      "outputs": []
    },
    {
      "cell_type": "markdown",
      "metadata": {
        "id": "BQLl3Oh8D5nw",
        "colab_type": "text"
      },
      "source": [
        "### Check False Negatives"
      ]
    },
    {
      "cell_type": "code",
      "metadata": {
        "id": "0g7iX1hkfPNz",
        "colab_type": "code",
        "colab": {}
      },
      "source": [
        "idx = 15\n",
        "plt.subplot(1,2,1)\n",
        "imshow(FN[idx][0])\n",
        "plt.subplot(1,2,2)\n",
        "imshow(FN[idx][1])"
      ],
      "execution_count": null,
      "outputs": []
    },
    {
      "cell_type": "markdown",
      "metadata": {
        "id": "jnXG8M9Ilul2",
        "colab_type": "text"
      },
      "source": [
        "### ROC Curve"
      ]
    },
    {
      "cell_type": "code",
      "metadata": {
        "id": "c0c8EUtplxzm",
        "colab_type": "code",
        "colab": {
          "base_uri": "https://localhost:8080/",
          "height": 313
        },
        "outputId": "112c7822-a1e9-4865-f940-876f60fe9dee"
      },
      "source": [
        "from sklearn.metrics import roc_curve\n",
        "from sklearn.metrics import roc_auc_score\n",
        "\n",
        "y_pred = model.predict([test_pairs[:, 0], test_pairs[:, 1]], verbose=1)\n",
        "\n",
        "ns_probs = [0 for _ in range(len(test_labels))]\n",
        "lr_probs = deepcopy(y_pred)\n",
        "for i in range(len(lr_probs)):\n",
        "  lr_probs[i] = 1 - lr_probs[i]\n",
        "lr_probs[lr_probs<0] = 0\n",
        "\n",
        "# calculate scores\n",
        "ns_auc = roc_auc_score(test_labels, ns_probs)\n",
        "lr_auc = roc_auc_score(test_labels, lr_probs)\n",
        "# summarize scores\n",
        "print('No Skill: ROC AUC=%.3f' % (ns_auc))\n",
        "print('Logistic: ROC AUC=%.3f' % (lr_auc))\n",
        "# calculate roc curves\n",
        "ns_fpr, ns_tpr, _ = roc_curve(test_labels, ns_probs)\n",
        "lr_fpr, lr_tpr, _ = roc_curve(test_labels, lr_probs)\n",
        "# plot the roc curve for the model\n",
        "plt.plot(ns_fpr, ns_tpr, linestyle='--', label='NO skill')\n",
        "plt.plot(lr_fpr, lr_tpr, marker='.', label='Siamese')\n",
        "# axis labels\n",
        "plt.xlabel('False Positive Rate')\n",
        "plt.ylabel('True Positive Rate')\n",
        "# show the legend\n",
        "plt.legend()\n",
        "# show the plot\n",
        "plt.show()"
      ],
      "execution_count": null,
      "outputs": [
        {
          "output_type": "stream",
          "text": [
            "No Skill: ROC AUC=0.500\n",
            "Logistic: ROC AUC=0.946\n"
          ],
          "name": "stdout"
        },
        {
          "output_type": "display_data",
          "data": {
            "image/png": "[encoded data removed]",
            "text/plain": [
              "<Figure size 432x288 with 1 Axes>"
            ]
          },
          "metadata": {
            "tags": [],
            "needs_background": "light"
          }
        }
      ]
    },
    {
      "cell_type": "markdown",
      "metadata": {
        "id": "qpJsX_qgrQDM",
        "colab_type": "text"
      },
      "source": [
        "### Precision-Recall curve"
      ]
    },
    {
      "cell_type": "code",
      "metadata": {
        "id": "5wGfqzHUrPPR",
        "colab_type": "code",
        "colab": {
          "base_uri": "https://localhost:8080/",
          "height": 296
        },
        "outputId": "8542566c-7886-45d9-9381-62e501298186"
      },
      "source": [
        "from sklearn.metrics import precision_recall_curve\n",
        "from sklearn.metrics import f1_score\n",
        "from sklearn.metrics import auc\n",
        "\n",
        "#y_pred = model.predict([test_pairs[:, 0], test_pairs[:, 1]], verbose=1)\n",
        "yhat = deepcopy(y_pred)\n",
        "\n",
        "thr = 0.5\n",
        "mask_pos = y_pred < thr\n",
        "mask_neg = y_pred >= thr\n",
        "yhat[mask_pos] = 1\n",
        "yhat[mask_neg] = 0\n",
        "\n",
        "# keep probabilities for the positive outcome only\n",
        "lr_probs = deepcopy(y_pred)\n",
        "for i in range(len(lr_probs)):\n",
        "  lr_probs[i] = 1 - lr_probs[i]\n",
        "lr_probs[lr_probs<0] = 0\n",
        "\n",
        "# predict class values\n",
        "lr_precision, lr_recall, _ = precision_recall_curve(test_labels, lr_probs)\n",
        "lr_f1, lr_auc = f1_score(test_labels, yhat), auc(lr_recall, lr_precision)\n",
        "# summarize scores\n",
        "print('Logistic: f1=%.3f auc=%.3f' % (lr_f1, lr_auc))\n",
        "# plot the precision-recall curves\n",
        "no_skill = len(test_labels[test_labels==1]) / len(test_labels)\n",
        "plt.plot([0, 1], [no_skill, no_skill], linestyle='--', label='No Skill')\n",
        "plt.plot(lr_recall, lr_precision, marker='.', label='Siamese')\n",
        "# axis labels\n",
        "plt.xlabel('Recall')\n",
        "plt.ylabel('Precision')\n",
        "# show the legend\n",
        "plt.legend()\n",
        "# show the plot\n",
        "plt.show()"
      ],
      "execution_count": null,
      "outputs": [
        {
          "output_type": "stream",
          "text": [
            "Logistic: f1=0.875 auc=0.923\n"
          ],
          "name": "stdout"
        },
        {
          "output_type": "display_data",
          "data": {
            "image/png": "[encoded data removed]",
            "text/plain": [
              "<Figure size 432x288 with 1 Axes>"
            ]
          },
          "metadata": {
            "tags": [],
            "needs_background": "light"
          }
        }
      ]
    },
    {
      "cell_type": "markdown",
      "metadata": {
        "id": "Gi5ihiiUd6Ao",
        "colab_type": "text"
      },
      "source": [
        "# CMC metric\n"
      ]
    },
    {
      "cell_type": "code",
      "metadata": {
        "id": "xbwkVJnUJUgK",
        "colab_type": "code",
        "colab": {}
      },
      "source": [
        "%cd '/content/drive/My Drive/Graduation Project/Machine Learning Subteam/dataset for cars/Car_Recognition_Datasets'\n",
        "df = pd.read_csv('Testing_data_with_IDs.csv')\n",
        "df[\"anchors\"]\n",
        "pos_test_ids = df.pos_id.tolist()\n",
        "neg_test_ids = df.neg_id.tolist()\n",
        "\n",
        "def calculate_rank(vector):\n",
        "  a={}\n",
        "  rank=0\n",
        "  for num in sorted(vector):\n",
        "    if num not in a:\n",
        "      a[num]=rank\n",
        "      rank=rank+1\n",
        "  return[a[i] for i in vector]\n",
        "\n",
        "\n",
        "pos_test_ids_ranked=calculate_rank(pos_test_ids)\n",
        "neg_test_ids_ranked=calculate_rank(neg_test_ids)\n",
        "\n",
        "\n",
        "def create_sets(pairs,ids):\n",
        "  set_a=[]\n",
        "  set_b=[]\n",
        "  set_c=[]\n",
        "  sets_combined = random.sample(range(ids[-1]), 19)\n",
        "  #sets_combined.sort()\n",
        "  x = sets_combined[0:9]\n",
        "  y = sets_combined[9:]\n",
        " # y[4]=9\n",
        "  for i in range (9):\n",
        "    \n",
        "    for j in range (len(ids)):\n",
        "      if (ids[j] == x[i]) :\n",
        "        set_a.append(pairs[2*j][0])\n",
        "        break\n",
        "\n",
        "  for i in range (9):\n",
        "    \n",
        "    for j in range (len(ids)):\n",
        "      if (ids[j] == y[i]) :\n",
        "        set_b.append(pairs[2*j][1])\n",
        "        break\n",
        "  \n",
        "  for i in range (len(ids)):\n",
        "      if (ids[i] == y[-1]) :\n",
        "        set_a.append(pairs[2*j][0])\n",
        "        set_b.append(pairs[2*j][1])\n",
        "        break \n",
        "   \n",
        "    \n",
        "  for i in range (10):\n",
        "    for j in range (10):\n",
        "      set_c.append(set_b[i])\n",
        "  \n",
        "  return np.array(set_a),np.array(set_c),np.array(set_b)\n",
        "\n",
        "\n",
        "def prediction_sets(pairs,ids):\n",
        "  set_a,set_c,set_b=create_sets(pairs,ids)\n",
        "\n",
        "  xset= model.predict([set_a,set_c[0:10]])\n",
        "  for i in range (9):\n",
        "    yset= model.predict([set_a,set_c[ i*10 : (i*10)+10 ]])\n",
        "    xset=np.append(xset, yset)\n",
        "  return xset\n",
        "\n",
        "\n",
        "def cmc(pairs,ids):\n",
        "  mat=[0 for _ in range(100)]\n",
        "  for i in range (1000):\n",
        "    xset = prediction_sets(pairs,ids)\n",
        "    rank = calculate_rank(xset)\n",
        "    for j in range (100):\n",
        "      if (rank[99] <= j):\n",
        "        mat[j]+=1\n",
        "  cmc_score = []\n",
        "  cmc_score = [number / 1000 for number in mat]\n",
        "  return cmc_score,mat\n",
        "\n",
        "\n",
        "cmc_score,mat= cmc(Test_VeRi_pairs,pos_test_ids_ranked)"
      ],
      "execution_count": null,
      "outputs": []
    },
    {
      "cell_type": "code",
      "metadata": {
        "id": "k24UsfjBeT-e",
        "colab_type": "code",
        "colab": {}
      },
      "source": [
        "default_color = ['r','g','b','c','m','y','orange','brown']\n",
        "default_marker = ['*','o','s','v','X','*','.','P']\n",
        "\n",
        "class CMC:\n",
        "    def __init__(self,cmc_dict, color=default_color, marker = default_marker):\n",
        "        self.color = color\n",
        "        self.marker = marker\n",
        "        self.cmc_dict = cmc_dict\n",
        "        \n",
        "    def plot(self,title,rank=20, xlabel='Rank',ylabel='Matching Rates (%)',show_grid=True):        \n",
        "        fig, ax = plt.subplots()\n",
        "        fig.suptitle(title)\n",
        "        x = list(range(0, rank+1, 5))\n",
        "        plt.ylim(0, 1.0)\n",
        "        plt.xlim(1, rank)\n",
        "        plt.xlabel(xlabel)\n",
        "        plt.ylabel(ylabel)\n",
        "        plt.xticks(x)\n",
        "        plt.grid(show_grid)\n",
        "\n",
        "        method_name = []\n",
        "        i = 0\n",
        "        for name in self.cmc_dict.keys():\n",
        "            if rank < len(self.cmc_dict[name]):\n",
        "                temp_cmc = self.cmc_dict[name][:rank]\n",
        "                r = list(range(1, rank+1))\n",
        "            else:\n",
        "                temp_cmc = self.cmc_dict[name]\n",
        "                r = list(range(1, len(temp_cmc)+1))\n",
        "                \n",
        "            if name == list(self.cmc_dict.keys())[-1]:\n",
        "                globals()[name] = mlines.Line2D(r, temp_cmc, color=self.color[0], marker=self.marker[0], label='{:.1f}% {}'.format(self.cmc_dict[name][0]*100, name))\n",
        "            else:\n",
        "                globals()[name] = mlines.Line2D(r, temp_cmc, color=self.color[i+1], marker=self.marker[i+1], label='{:.1f}% {}'.format(self.cmc_dict[name][0]*100, name))\n",
        "                i = i+1\n",
        "            ax.add_line(globals()[name])\n",
        "            method_name.append(globals()[name])\n",
        "\n",
        "        plt.legend(handles=method_name)\n",
        "        plt.show()\n",
        "    \n",
        "    def save(self, title, filename, \n",
        "             rank=20, xlabel='Rank',\n",
        "             ylabel='Matching Rates (%)', show_grid=True,\n",
        "             save_path=os.getcwd(), format='png', **kwargs):\n",
        "        fig, ax = plt.subplots()\n",
        "        fig.suptitle(title)\n",
        "        x = list(range(0, rank+1, 5))\n",
        "        plt.ylim(0, 1.0)\n",
        "        plt.xlim(1, rank)\n",
        "        plt.xlabel(xlabel)\n",
        "        plt.ylabel(ylabel)\n",
        "        plt.xticks(x)\n",
        "        plt.grid(show_grid)\n",
        "\n",
        "        method_name = []\n",
        "        i = 0\n",
        "        for name in self.cmc_dict.keys():\n",
        "            if rank < len(self.cmc_dict[name]):\n",
        "                temp_cmc = self.cmc_dict[name][:rank]\n",
        "                r = list(range(1, rank+1))\n",
        "            else:\n",
        "                temp_cmc = self.cmc_dict[name]\n",
        "                r = list(range(1, len(temp_cmc)+1))\n",
        "                \n",
        "            if name == list(self.cmc_dict.keys())[-1]:\n",
        "                globals()[name] = mlines.Line2D(r, temp_cmc, color='r', marker='*', label='{:.1f}% {}'.format(self.cmc_dict[name][0]*100, name))\n",
        "            else:\n",
        "                globals()[name] = mlines.Line2D(r, temp_cmc, color=self.color[i], marker=self.marker[i], label='{:.1f}% {}'.format(self.cmc_dict[name][0]*100, name))\n",
        "                i = i+1\n",
        "            ax.add_line(globals()[name])\n",
        "            method_name.append(globals()[name])\n",
        "\n",
        "        plt.legend(handles=method_name)\n",
        "        fig.savefig(os.path.join(save_path,filename+'.'+format), \n",
        "                    format=format,\n",
        "                    bbox_inches='tight',\n",
        "                    pad_inches = 0, **kwargs)"
      ],
      "execution_count": null,
      "outputs": []
    },
    {
      "cell_type": "code",
      "metadata": {
        "id": "ADbNFFN0eYXB",
        "colab_type": "code",
        "colab": {}
      },
      "source": [
        "%matplotlib inline\n",
        "cmc_dict ={\n",
        "    'Proposed': cmc_score\n",
        "}"
      ],
      "execution_count": null,
      "outputs": []
    },
    {
      "cell_type": "code",
      "metadata": {
        "id": "5je7rbg6ebzs",
        "colab_type": "code",
        "colab": {}
      },
      "source": [
        "cmc = CMC(cmc_dict)\n",
        "\n",
        "#custimised color and marker\n",
        "new_color = ['r','g','b','c','m','y','orange','brown']\n",
        "new_marker = ['*','o','s','v','X','*','.','P']\n",
        "cmc = CMC(cmc_dict,color=new_color,marker=new_marker)"
      ],
      "execution_count": null,
      "outputs": []
    },
    {
      "cell_type": "code",
      "metadata": {
        "id": "obYyFcYlegei",
        "colab_type": "code",
        "colab": {}
      },
      "source": [
        "cmc.plot(title = 'CMC on CUHK01', rank=100,\n",
        "         xlabel='Rank Score',\n",
        "         ylabel='Recognition Rate', show_grid=False)"
      ],
      "execution_count": null,
      "outputs": []
    },
    {
      "cell_type": "markdown",
      "metadata": {
        "id": "4lGfqvBOlSvx",
        "colab_type": "text"
      },
      "source": [
        "# Siamese Network Pruning training"
      ]
    },
    {
      "cell_type": "markdown",
      "metadata": {
        "id": "DRNO25L8hb8j",
        "colab_type": "text"
      },
      "source": [
        "### Loading the model to be pruned"
      ]
    },
    {
      "cell_type": "code",
      "metadata": {
        "id": "lu5oE_Tax74b",
        "colab_type": "code",
        "colab": {}
      },
      "source": [
        "def contrastive_loss(y_true, y_pred):\n",
        "    '''Contrastive loss from Hadsell-et-al.'06\n",
        "    http://yann.lecun.com/exdb/publis/pdf/hadsell-chopra-lecun-06.pdf\n",
        "    '''\n",
        "    margin = 1\n",
        "    square_pred = K.square(y_pred)\n",
        "    margin_square = K.square(K.maximum(margin - y_pred, 0))\n",
        "    return K.mean(y_true * square_pred + (1 - y_true) * margin_square)"
      ],
      "execution_count": null,
      "outputs": []
    },
    {
      "cell_type": "code",
      "metadata": {
        "id": "4qbLGvBglYza",
        "colab_type": "code",
        "colab": {}
      },
      "source": [
        "weights_dir = '/content/drive/My Drive/Graduation Project/Machine Learning Subteam/Car_Recognition_Datasets/Omar_checkpoints/'\n",
        "siamese_model = load_model(weights_dir + 'Mark20_2.h5',  custom_objects={'contrastive_loss': contrastive_loss})"
      ],
      "execution_count": null,
      "outputs": []
    },
    {
      "cell_type": "markdown",
      "metadata": {
        "id": "4cdxRja2lf0I",
        "colab_type": "text"
      },
      "source": [
        "### Pruning Functions"
      ]
    },
    {
      "cell_type": "code",
      "metadata": {
        "id": "ZAEP0xk7lZNh",
        "colab_type": "code",
        "colab": {}
      },
      "source": [
        "def prune_weights(w, threshold):\n",
        "  # prune weights that are smaller then threshold - make them zero\n",
        "  pruning_mask_data = (np.abs(w) >= threshold).astype(np.float32) \n",
        "  w_p = pruning_mask_data*w\n",
        "  return w_p, pruning_mask_data\n",
        "\n",
        "def prune_weights_gradient(grad,pruning_mask_data):\n",
        "  return grad * pruning_mask_data\n",
        "\n",
        "# for numerical stability\n",
        "#def prune_weights_update(pruning_mask_data):"
      ],
      "execution_count": null,
      "outputs": []
    },
    {
      "cell_type": "markdown",
      "metadata": {
        "id": "ftOHVWbSl5Z3",
        "colab_type": "text"
      },
      "source": [
        "### Prune the weights"
      ]
    },
    {
      "cell_type": "code",
      "metadata": {
        "id": "3L0Pk0jtlY8v",
        "colab_type": "code",
        "colab": {}
      },
      "source": [
        "threshold = 0.1\n",
        "\n",
        "w_pruning = []\n",
        "pruning_mask = []\n",
        "# Pruning\n",
        "for layer in range(len(siamese_model.weights)):\n",
        "  if(siamese_model.weights[layer].numpy().ndim == 4):\n",
        "    w_p, pruning_mask_data = prune_weights(siamese_model.weights[layer].numpy(), threshold)\n",
        "    w_pruning.append(w_p)\n",
        "    pruning_mask.append(pruning_mask_data)\n",
        "  else:\n",
        "    w_pruning.append(siamese_model.weights[layer].numpy())\n",
        "    #pruning_mask.append(1)\n",
        "\n",
        "siamese_model.set_weights(w_pruning)\n",
        "print('done pruning')"
      ],
      "execution_count": null,
      "outputs": []
    },
    {
      "cell_type": "markdown",
      "metadata": {
        "id": "Z5TOJQo3pMYV",
        "colab_type": "text"
      },
      "source": [
        "### Pruning Training"
      ]
    },
    {
      "cell_type": "markdown",
      "metadata": {
        "id": "MfSJ7GPmxe0Z",
        "colab_type": "text"
      },
      "source": [
        "#### Training functions"
      ]
    },
    {
      "cell_type": "code",
      "metadata": {
        "colab_type": "code",
        "id": "U3NBaDGH9lph",
        "colab": {}
      },
      "source": [
        "loss_object = tf.keras.losses.BinaryCrossentropy()\n",
        "\n",
        "optimizer = tf.keras.optimizers.SGD()\n",
        "#optimizer = tf.keras.optimizers.Adam()\n",
        "\n",
        "train_loss = tf.keras.metrics.Mean(name='train_loss')\n",
        "train_accuracy = tf.keras.metrics.Mean(name='train_accuracy')"
      ],
      "execution_count": null,
      "outputs": []
    },
    {
      "cell_type": "code",
      "metadata": {
        "id": "joARRfkQg9Km",
        "colab_type": "code",
        "colab": {}
      },
      "source": [
        "@tf.function\n",
        "def train_step(pairs, labels):\n",
        "  with tf.GradientTape() as tape:\n",
        "    # training=True is only needed if there are layers with different\n",
        "    # behavior during training versus inference (e.g. Dropout).\n",
        "    predictions = siamese_model(pairs, training=True)\n",
        "    #loss = loss_object(labels, predictions)\n",
        "    loss = contrastive_loss(labels, predictions)\n",
        "    acc = accuracy(labels, predictions)\n",
        "\n",
        "  gradients = tape.gradient(loss, siamese_model.trainable_variables)\n",
        "  \n",
        "  # Apply Purning mask to the gradient\n",
        "  grad_pruning = []\n",
        "  counter = 0\n",
        "  #for layer in range(len(gradients)):\n",
        "  #  if(gradients[layer].numpy().ndim == 4):\n",
        "  #    grad_pruning.append(prune_weights_gradient(gradients[layer], pruning_mask[counter]))\n",
        "  #    counter+=1\n",
        "  #  else:\n",
        "  #    grad_pruning.append(gradients[layer].numpy())\n",
        "\n",
        "  for layer in range(len(gradients)):\n",
        "    if(len(K.shape(gradients[layer])) == 4):\n",
        "      grad_pruning.append(prune_weights_gradient(gradients[layer], pruning_mask[counter]))\n",
        "      counter+=1\n",
        "    else:\n",
        "      grad_pruning.append(gradients[layer])\n",
        "\n",
        "  optimizer.apply_gradients(zip(grad_pruning, siamese_model.trainable_variables))\n",
        "\n",
        "  train_loss(loss)\n",
        "  train_accuracy(acc)"
      ],
      "execution_count": null,
      "outputs": []
    },
    {
      "cell_type": "markdown",
      "metadata": {
        "id": "SVbyMb9LxzBa",
        "colab_type": "text"
      },
      "source": [
        "#### Training Loop"
      ]
    },
    {
      "cell_type": "code",
      "metadata": {
        "colab_type": "code",
        "id": "mpvuvufDvK1f",
        "colab": {}
      },
      "source": [
        "epochs = 10\n",
        "BS = 128\n",
        "dim = (64, 64)\n",
        "\n",
        "NUM_TRAIN_PAIRS = len(train_pos_pair_names)\n",
        "NUM_VAL_PAIRS = len(val_pos_pair_names)\n",
        "NUM_TEST_PAIRS = len(test_pos_pair_names)\n",
        "\n",
        "train_dir= '/content/drive/My Drive/Graduation Project/Machine Learning Subteam/Car_Recognition_Datasets/VeRi_with_plate/image_train'\n",
        "test_val_dir='/content/drive/My Drive/Graduation Project/Machine Learning Subteam/Car_Recognition_Datasets/VeRi_with_plate/image_test'\n",
        "\n",
        "\n",
        "train_gen = pairs_generator(train_pos_pair_names, train_neg_pair_names, BS, train_dir, dim, aug=None)\n",
        "val_gen   = pairs_generator(val_pos_pair_names, val_neg_pair_names, BS, test_val_dir, dim, aug=None)\n",
        "test_gen  = pairs_generator(test_pos_pair_names, test_neg_pair_names, BS, test_val_dir, dim, aug=None)"
      ],
      "execution_count": null,
      "outputs": []
    },
    {
      "cell_type": "code",
      "metadata": {
        "id": "mWHVeTOUnv94",
        "colab_type": "code",
        "colab": {}
      },
      "source": [
        "for epoch in range(epochs):\n",
        "  print('Epoch: '+str(epoch+1)+'/'+str(epochs)+' - '+str(NUM_TRAIN_PAIRS//BS)+' steps')\n",
        "  # Reset the metrics at the start of the next epoch\n",
        "  train_loss.reset_states()\n",
        "  train_accuracy.reset_states()\n",
        "\n",
        "  training_step = 0\n",
        "  for pair, label in train_gen:\n",
        "    if(training_step%10 == 0):\n",
        "      print(training_step, end=' ')\n",
        "\n",
        "    train_step(pair, label)\n",
        "    training_step+=1\n",
        "\n",
        "    if(training_step == NUM_TRAIN_PAIRS//BS):\n",
        "      break\n",
        "\n",
        "  model.save_weights(weights_dir + 'pruned_mark1')\n",
        "  print()\n",
        "  template = 'Epoch {}, Loss: {}, Accuracy: {}'\n",
        "  print(template.format(epoch+1, \n",
        "                        train_loss.result(), \n",
        "                        train_accuracy.result()*100\n",
        "                        )\n",
        "  )"
      ],
      "execution_count": null,
      "outputs": []
    },
    {
      "cell_type": "markdown",
      "metadata": {
        "id": "nIrSLjzKhs4E",
        "colab_type": "text"
      },
      "source": [
        "#### Testing"
      ]
    },
    {
      "cell_type": "code",
      "metadata": {
        "id": "jPbeqS_Jx9N-",
        "colab_type": "code",
        "colab": {}
      },
      "source": [
        "siamese_model.evaluate(test_gen, steps=NUM_TEST_PAIRS//BS, verbose=1)"
      ],
      "execution_count": null,
      "outputs": []
    },
    {
      "cell_type": "code",
      "metadata": {
        "id": "LdBTiDD3yZMJ",
        "colab_type": "code",
        "colab": {}
      },
      "source": [
        " for w in siamese_model.weights:\n",
        "   i = w.numpy() > 0\n",
        "   #if(i.ndim == 4):\n",
        "   print(str(np.sum(i)//1),'/',str(len(np.reshape(i,(-1,1))) ))"
      ],
      "execution_count": null,
      "outputs": []
    },
    {
      "cell_type": "code",
      "metadata": {
        "id": "icywWuwFx8BB",
        "colab_type": "code",
        "colab": {}
      },
      "source": [
        " for w in siamese_model.weights:\n",
        "   i = w.numpy() > 0\n",
        "   #if(i.ndim == 4):\n",
        "   print(str(np.sum(i)//1),'/',str(len(np.reshape(i,(-1,1))) ))"
      ],
      "execution_count": null,
      "outputs": []
    },
    {
      "cell_type": "code",
      "metadata": {
        "id": "SvOuwDPiW-uz",
        "colab_type": "code",
        "colab": {}
      },
      "source": [
        ""
      ],
      "execution_count": null,
      "outputs": []
    }
  ]
}